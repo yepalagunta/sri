{
 "cells": [
  {
   "cell_type": "code",
   "execution_count": 1,
   "metadata": {},
   "outputs": [],
   "source": [
    "print(\"hello world!\")"
   ]
  },
  {
   "cell_type": "markdown",
   "metadata": {},
   "source": []
  },
  {
   "cell_type": "code",
   "execution_count": 2,
   "metadata": {},
   "outputs": [
    {
     "data": {
      "text/plain": [
       "10"
      ]
     },
     "execution_count": 2,
     "metadata": {},
     "output_type": "execute_result"
    }
   ],
   "source": [
    "#variable decleration\n",
    "a=10\n",
    "a"
   ]
  },
  {
   "cell_type": "code",
   "execution_count": 3,
   "metadata": {},
   "outputs": [
    {
     "name": "stdout",
     "output_type": "stream",
     "text": [
      "2\n",
      "2\n"
     ]
    }
   ],
   "source": [
    "#dynamic variable\n",
    "x=input()\n",
    "print(x)"
   ]
  },
  {
   "cell_type": "code",
   "execution_count": 4,
   "metadata": {},
   "outputs": [
    {
     "name": "stdout",
     "output_type": "stream",
     "text": [
      "2\n",
      "2\n",
      "2\n",
      "2\n"
     ]
    },
    {
     "data": {
      "text/plain": [
       "int"
      ]
     },
     "execution_count": 4,
     "metadata": {},
     "output_type": "execute_result"
    }
   ],
   "source": [
    "a=int(input())\n",
    "b=int(input())\n",
    "print(a)\n",
    "print(b)\n",
    "type(a)\n",
    "#syntax for data type check\n",
    "#type(variable)"
   ]
  },
  {
   "cell_type": "code",
   "execution_count": 5,
   "metadata": {},
   "outputs": [
    {
     "name": "stdout",
     "output_type": "stream",
     "text": [
      "2\n",
      "2\n",
      "4\n"
     ]
    }
   ],
   "source": [
    "a=int(input())\n",
    "b=int(input())\n",
    "c=a+b\n",
    "print(c)"
   ]
  },
  {
   "cell_type": "code",
   "execution_count": 6,
   "metadata": {},
   "outputs": [
    {
     "name": "stdout",
     "output_type": "stream",
     "text": [
      "2\n",
      "2\n",
      "4.0\n"
     ]
    }
   ],
   "source": [
    "a=float(input())\n",
    "b=float(input())\n",
    "c=a+b\n",
    "print(c)"
   ]
  },
  {
   "cell_type": "code",
   "execution_count": 7,
   "metadata": {},
   "outputs": [
    {
     "name": "stdout",
     "output_type": "stream",
     "text": [
      "welcome to vignan's lara\n"
     ]
    }
   ],
   "source": [
    "x=\"welcome to\"\n",
    "print(x+\" \"\"vignan's lara\")"
   ]
  },
  {
   "cell_type": "code",
   "execution_count": 9,
   "metadata": {},
   "outputs": [
    {
     "data": {
      "text/plain": [
       "True"
      ]
     },
     "execution_count": 9,
     "metadata": {},
     "output_type": "execute_result"
    }
   ],
   "source": [
    "import webbrowser\n",
    "webbrowser.open(\"https://gmail.com/\")"
   ]
  },
  {
   "cell_type": "code",
   "execution_count": 6,
   "metadata": {},
   "outputs": [
    {
     "name": "stdout",
     "output_type": "stream",
     "text": [
      "2\n",
      "5\n",
      "7\n",
      "-3\n",
      "10\n",
      "modulo division 0\n",
      "0.4\n",
      "2\n",
      "32\n"
     ]
    }
   ],
   "source": [
    "#arithematic operator-+*/%//\n",
    "a=int(input())\n",
    "b=int(input())\n",
    "print(a+b)\n",
    "print(a-b)\n",
    "print(a*b)\n",
    "print(a//b)\n",
    "print(a/b)\n",
    "print(a%b)\n",
    "print(a**b)\n",
    "#comparison or relational\n",
    "#bit wise\n",
    "#identity\n",
    "#bitwise \n",
    "#logical\n"
   ]
  },
  {
   "cell_type": "code",
   "execution_count": 5,
   "metadata": {},
   "outputs": [
    {
     "name": "stdout",
     "output_type": "stream",
     "text": [
      "False\n",
      "True\n",
      "False\n",
      "True\n",
      "False\n",
      "True\n"
     ]
    }
   ],
   "source": [
    "#comparison operators==,<,>,<=,>=,!=\n",
    "print(a==b)\n",
    "print(a<b)\n",
    "print(a>b)\n",
    "print(a<=b)\n",
    "print(a>=b)\n",
    "print(a!=b)"
   ]
  },
  {
   "cell_type": "code",
   "execution_count": 26,
   "metadata": {},
   "outputs": [
    {
     "name": "stdout",
     "output_type": "stream",
     "text": [
      "101\n",
      "-2\n",
      "0\n",
      "25\n",
      "12\n"
     ]
    }
   ],
   "source": [
    "#bit wise operators&,|,~,<<,>>\n",
    "a=100\n",
    "b=1\n",
    "print(a|b)\n",
    "print(~b)\n",
    "print(a&b)\n",
    "print(a>>2)\n",
    "print(a>>3)"
   ]
  },
  {
   "cell_type": "code",
   "execution_count": 14,
   "metadata": {},
   "outputs": [
    {
     "name": "stdout",
     "output_type": "stream",
     "text": [
      "0\n",
      "1\n",
      "False\n"
     ]
    }
   ],
   "source": [
    "#logical operators and or not\n",
    "a=1\n",
    "b=0\n",
    "print(a and b)\n",
    "print(a or b)\n",
    "print(not a)"
   ]
  },
  {
   "cell_type": "code",
   "execution_count": 17,
   "metadata": {},
   "outputs": [
    {
     "data": {
      "text/plain": [
       "False"
      ]
     },
     "execution_count": 17,
     "metadata": {},
     "output_type": "execute_result"
    }
   ],
   "source": [
    "#member ship operators in, not in\n",
    "s=\"python\"\n",
    "\"n\" not in s"
   ]
  },
  {
   "cell_type": "code",
   "execution_count": 19,
   "metadata": {},
   "outputs": [
    {
     "data": {
      "text/plain": [
       "True"
      ]
     },
     "execution_count": 19,
     "metadata": {},
     "output_type": "execute_result"
    }
   ],
   "source": [
    "s=\"python\"\n",
    "\"n\" in s"
   ]
  },
  {
   "cell_type": "code",
   "execution_count": 20,
   "metadata": {},
   "outputs": [
    {
     "data": {
      "text/plain": [
       "True"
      ]
     },
     "execution_count": 20,
     "metadata": {},
     "output_type": "execute_result"
    }
   ],
   "source": [
    "#idnetity operator is is not\n",
    "x=10\n",
    "y=10\n",
    "x is y"
   ]
  },
  {
   "cell_type": "code",
   "execution_count": 22,
   "metadata": {},
   "outputs": [
    {
     "data": {
      "text/plain": [
       "False"
      ]
     },
     "execution_count": 22,
     "metadata": {},
     "output_type": "execute_result"
    }
   ],
   "source": [
    "x is not y"
   ]
  },
  {
   "cell_type": "code",
   "execution_count": 1,
   "metadata": {},
   "outputs": [
    {
     "name": "stdout",
     "output_type": "stream",
     "text": [
      "6\n",
      "it's a positive number\n"
     ]
    }
   ],
   "source": [
    "##conditional statements\n",
    "#syntax for if statement\n",
    "\"\"\"if condition:\n",
    "        statement\n",
    "        statement...\"\"\"\n",
    "n=int(input())\n",
    "if n>0:\n",
    "    print(\"it's a positive number\")"
   ]
  },
  {
   "cell_type": "code",
   "execution_count": 2,
   "metadata": {},
   "outputs": [
    {
     "name": "stdout",
     "output_type": "stream",
     "text": [
      "2\n",
      "positive number\n"
     ]
    }
   ],
   "source": [
    "\"\"\"syntax for if else\n",
    "if condition:\n",
    "    statement \n",
    "    statement\n",
    "else:\n",
    "    statement\n",
    "    statement...\"\"\"\n",
    "n= int(input())\n",
    "if n>0:\n",
    "    print(\"positive number\")\n",
    "else:\n",
    "    print(\"it's a negative number\")"
   ]
  },
  {
   "cell_type": "code",
   "execution_count": 3,
   "metadata": {},
   "outputs": [
    {
     "name": "stdout",
     "output_type": "stream",
     "text": [
      "11\n",
      "number is odd\n"
     ]
    }
   ],
   "source": [
    "#is even or odd\n",
    "n= int(input())\n",
    "if n%2==1:\n",
    "    print(\"number is odd\")\n",
    "else:\n",
    "    print(\" number is even\")"
   ]
  },
  {
   "cell_type": "code",
   "execution_count": 12,
   "metadata": {},
   "outputs": [
    {
     "name": "stdout",
     "output_type": "stream",
     "text": [
      "enter year1900\n",
      "leap year\n"
     ]
    }
   ],
   "source": [
    "#is the year is leap or not\n",
    "year=int(input(\"enter year\"))\n",
    "if (year%4==0 or(year%4==0 and year%100!=0)):\n",
    "    print(\"leap year\")\n",
    "else:\n",
    "    print(\"not a leap year\")\n"
   ]
  },
  {
   "cell_type": "code",
   "execution_count": 16,
   "metadata": {},
   "outputs": [
    {
     "name": "stdout",
     "output_type": "stream",
     "text": [
      "e\n",
      "vowel\n"
     ]
    }
   ],
   "source": [
    "#is ovels or not\n",
    "vowels=[\"a\",\"e\",\"i\",\"o\",\"u\",\"A\",\"E\",\"I\",\"O\",\"U\"]\n",
    "x=input()\n",
    "if x in vowels:\n",
    "    print(\"vowel\")\n",
    "else:\n",
    "    print(\"not a vowel\")"
   ]
  },
  {
   "cell_type": "code",
   "execution_count": 23,
   "metadata": {},
   "outputs": [
    {
     "name": "stdout",
     "output_type": "stream",
     "text": [
      "enter a value1\n",
      "enter b value2\n",
      "enter c value2\n",
      "b is equal to c and they are equal\n"
     ]
    }
   ],
   "source": [
    "#largest of three numbers\n",
    "a=int(input(\"enter a value\"))\n",
    "b=int(input(\"enter b value\"))\n",
    "c=int(input(\"enter c value\"))\n",
    "if a>b:\n",
    "    if a>c:\n",
    "        print(\"a is greater\")\n",
    "    elif(a==c):\n",
    "        print(\"a is equal to c and they are greater\")\n",
    "    else:\n",
    "        print(\"c is greater \")\n",
    "else:\n",
    "    if b>c:\n",
    "        print(\"b is greater\")\n",
    "    elif(b==c):\n",
    "        print(\"b is equal to c and they are equal\")\n",
    "    else:\n",
    "        print(\"c is greater\")"
   ]
  },
  {
   "cell_type": "code",
   "execution_count": 26,
   "metadata": {},
   "outputs": [
    {
     "name": "stdout",
     "output_type": "stream",
     "text": [
      "srikanth\n",
      "prime\n",
      "welcome srikanth\n"
     ]
    }
   ],
   "source": [
    "user_name=input()\n",
    "password=input()\n",
    "users=\"srikanth\"\n",
    "pas=\"prime\"\n",
    "if(user_name in users):\n",
    "    if(password in pas):\n",
    "        print(\"welcome \"+user_name)\n",
    "    else:\n",
    "        print(\"password is incorrect\")\n",
    "else:\n",
    "    print(\"user name is invalid\")"
   ]
  },
  {
   "cell_type": "code",
   "execution_count": 2,
   "metadata": {},
   "outputs": [
    {
     "name": "stdout",
     "output_type": "stream",
     "text": [
      "a value12\n",
      "1\n",
      "MENU:1 ADD,2 SUB,3 MUL, 4 MOD, 5 POW\n",
      "2\n",
      "11\n"
     ]
    }
   ],
   "source": [
    "a=int(input(\"a value\"))\n",
    "b= int(input())\n",
    "print(\"MENU:1 ADD,2 SUB,3 MUL, 4 MOD, 5 POW\")\n",
    "n=int(input())\n",
    "if n==1:\n",
    "    print(a+b)\n",
    "if n==2:\n",
    "    print(a-b)\n",
    "if n==3:\n",
    "    print(a*b)\n",
    "if n==4:\n",
    "    print(a//b)\n",
    "if n==5:\n",
    "    print(a**b)\n",
    "if(n>5 or n<=0):\n",
    "    print(\"enter correct option\")"
   ]
  },
  {
   "cell_type": "code",
   "execution_count": null,
   "metadata": {},
   "outputs": [],
   "source": []
  },
  {
   "cell_type": "code",
   "execution_count": null,
   "metadata": {},
   "outputs": [],
   "source": []
  }
 ],
 "metadata": {
  "kernelspec": {
   "display_name": "Python 3",
   "language": "python",
   "name": "python3"
  },
  "language_info": {
   "codemirror_mode": {
    "name": "ipython",
    "version": 3
   },
   "file_extension": ".py",
   "mimetype": "text/x-python",
   "name": "python",
   "nbconvert_exporter": "python",
   "pygments_lexer": "ipython3",
   "version": "3.8.5"
  }
 },
 "nbformat": 4,
 "nbformat_minor": 4
}
