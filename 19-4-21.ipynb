{
 "cells": [
  {
   "cell_type": "markdown",
   "metadata": {},
   "source": [
    "# object oriented programming language"
   ]
  },
  {
   "cell_type": "raw",
   "metadata": {},
   "source": [
    "class class_name:\n",
    "    variables\n",
    "    methods\n",
    "    rules:\n",
    "    should be capital\n",
    "    don't allow space and keywords"
   ]
  },
  {
   "cell_type": "code",
   "execution_count": 5,
   "metadata": {},
   "outputs": [
    {
     "name": "stdout",
     "output_type": "stream",
     "text": [
      "10\n",
      "from example function\n"
     ]
    }
   ],
   "source": [
    "class exm:\n",
    "    a=10\n",
    "    def exmp():\n",
    "        return(\"from example function\")\n",
    "print(exm.a)\n",
    "print(exm.exmp())"
   ]
  },
  {
   "cell_type": "code",
   "execution_count": 41,
   "metadata": {},
   "outputs": [
    {
     "name": "stdout",
     "output_type": "stream",
     "text": [
      "120\n"
     ]
    }
   ],
   "source": [
    "class add:\n",
    "    def fact(i):\n",
    "        fac=1\n",
    "        for i in range(1,i+1):\n",
    "            fac=fac*i\n",
    "        return fac\n",
    "print(add.fact(5))"
   ]
  },
  {
   "cell_type": "code",
   "execution_count": 39,
   "metadata": {},
   "outputs": [
    {
     "ename": "NameError",
     "evalue": "name 'cnt' is not defined",
     "output_type": "error",
     "traceback": [
      "\u001b[1;31m---------------------------------------------------------------------------\u001b[0m",
      "\u001b[1;31mNameError\u001b[0m                                 Traceback (most recent call last)",
      "\u001b[1;32m<ipython-input-39-52a3efa60cc3>\u001b[0m in \u001b[0;36m<module>\u001b[1;34m\u001b[0m\n\u001b[0;32m      6\u001b[0m                 \u001b[0mcnt\u001b[0m\u001b[1;33m=\u001b[0m\u001b[0mcnt\u001b[0m\u001b[1;33m+\u001b[0m\u001b[1;36m1\u001b[0m\u001b[1;33m\u001b[0m\u001b[1;33m\u001b[0m\u001b[0m\n\u001b[0;32m      7\u001b[0m         \u001b[1;32mreturn\u001b[0m \u001b[0mcnt\u001b[0m\u001b[1;33m\u001b[0m\u001b[1;33m\u001b[0m\u001b[0m\n\u001b[1;32m----> 8\u001b[1;33m \u001b[1;32mif\u001b[0m \u001b[0mcnt\u001b[0m\u001b[1;33m>\u001b[0m\u001b[1;36m0\u001b[0m\u001b[1;33m:\u001b[0m\u001b[1;33m\u001b[0m\u001b[1;33m\u001b[0m\u001b[0m\n\u001b[0m\u001b[0;32m      9\u001b[0m     \u001b[0mprint\u001b[0m\u001b[1;33m(\u001b[0m\u001b[1;34m\"number is not prime\"\u001b[0m\u001b[1;33m)\u001b[0m\u001b[1;33m\u001b[0m\u001b[1;33m\u001b[0m\u001b[0m\n\u001b[0;32m     10\u001b[0m \u001b[1;32melse\u001b[0m\u001b[1;33m:\u001b[0m\u001b[1;33m\u001b[0m\u001b[1;33m\u001b[0m\u001b[0m\n",
      "\u001b[1;31mNameError\u001b[0m: name 'cnt' is not defined"
     ]
    }
   ],
   "source": [
    "class prime:\n",
    "    cnt=0\n",
    "    def che(n):\n",
    "        for i in range(2,n):\n",
    "            if(n%i==0):\n",
    "                cnt=cnt+1\n",
    "        return cnt\n",
    "if cnt>0:\n",
    "    print(\"number is not prime\")\n",
    "else:\n",
    "    print(\"munber is prime\")\n",
    "print(prime.che(5))"
   ]
  },
  {
   "cell_type": "code",
   "execution_count": 49,
   "metadata": {},
   "outputs": [
    {
     "name": "stdout",
     "output_type": "stream",
     "text": [
      "srikanth\n",
      "prime\n"
     ]
    }
   ],
   "source": [
    "class per:\n",
    "    def __init__(self,n):\n",
    "        self.name=n\n",
    "    def personname(self):\n",
    "        return self.name\n",
    "p1=per(\"srikanth\")\n",
    "p2=per(\"prime\")\n",
    "print(p1.personname())\n",
    "print(p2.personname())"
   ]
  },
  {
   "cell_type": "raw",
   "metadata": {},
   "source": [
    "inheritance:\n",
    "acquires properties from one class to other class\n",
    "syntax:\n",
    "class class_name:access specifier parent_class_name\n",
    "types of inheritance\n",
    "single\n",
    "multi\n",
    "multiple\n",
    "multilevel\n",
    "hybrid"
   ]
  },
  {
   "cell_type": "code",
   "execution_count": 56,
   "metadata": {},
   "outputs": [
    {
     "data": {
      "text/plain": [
       "12"
      ]
     },
     "execution_count": 56,
     "metadata": {},
     "output_type": "execute_result"
    }
   ],
   "source": [
    "#single\n",
    "class A:\n",
    "    a=1\n",
    "    b=2\n",
    "class B(A):\n",
    "    def add(a,b):\n",
    "        return a+b\n",
    "obj=B\n",
    "obj.add(5,7)"
   ]
  },
  {
   "cell_type": "code",
   "execution_count": 57,
   "metadata": {},
   "outputs": [
    {
     "ename": "SyntaxError",
     "evalue": "unexpected EOF while parsing (<ipython-input-57-1e8a178c9c99>, line 2)",
     "output_type": "error",
     "traceback": [
      "\u001b[1;36m  File \u001b[1;32m\"<ipython-input-57-1e8a178c9c99>\"\u001b[1;36m, line \u001b[1;32m2\u001b[0m\n\u001b[1;33m    class parent:\u001b[0m\n\u001b[1;37m                 ^\u001b[0m\n\u001b[1;31mSyntaxError\u001b[0m\u001b[1;31m:\u001b[0m unexpected EOF while parsing\n"
     ]
    }
   ],
   "source": [
    "#multiple\n",
    "class parent:\n",
    "    "
   ]
  },
  {
   "cell_type": "code",
   "execution_count": null,
   "metadata": {},
   "outputs": [],
   "source": []
  }
 ],
 "metadata": {
  "kernelspec": {
   "display_name": "Python 3",
   "language": "python",
   "name": "python3"
  },
  "language_info": {
   "codemirror_mode": {
    "name": "ipython",
    "version": 3
   },
   "file_extension": ".py",
   "mimetype": "text/x-python",
   "name": "python",
   "nbconvert_exporter": "python",
   "pygments_lexer": "ipython3",
   "version": "3.8.5"
  }
 },
 "nbformat": 4,
 "nbformat_minor": 4
}
